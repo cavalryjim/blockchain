{
 "cells": [
  {
   "cell_type": "markdown",
   "id": "195f8052",
   "metadata": {},
   "source": [
    "https://www.tutorialspoint.com/python_blockchain/index.htm"
   ]
  },
  {
   "cell_type": "code",
   "execution_count": 9,
   "id": "1589a4d2",
   "metadata": {},
   "outputs": [],
   "source": [
    "import hashlib\n",
    "import random\n",
    "import string\n",
    "import json\n",
    "import binascii\n",
    "import numpy as np\n",
    "import pandas as pd\n",
    "import pylab as pl\n",
    "import logging\n",
    "import datetime\n",
    "import collections\n"
   ]
  },
  {
   "cell_type": "code",
   "execution_count": 10,
   "id": "2f4195ad",
   "metadata": {},
   "outputs": [],
   "source": [
    "import Crypto\n",
    "import Crypto.Random\n",
    "from Crypto.Hash import SHA\n",
    "from Crypto.PublicKey import RSA\n",
    "from Crypto.Signature import PKCS1_v1_5"
   ]
  },
  {
   "cell_type": "code",
   "execution_count": 11,
   "id": "c887e282",
   "metadata": {},
   "outputs": [],
   "source": [
    "class Client:\n",
    "    def __init__(self):\n",
    "        random = Crypto.Random.new().read\n",
    "        self._private_key = RSA.generate(1024, random)\n",
    "        self._public_key = self._private_key.publickey()\n",
    "        self._signer = PKCS1_v1_5.new(self._private_key)\n",
    "\n",
    "    @property\n",
    "    def identity(self):\n",
    "        return binascii.hexlify(self._public_key.exportKey(format='DER')).decode('ascii')"
   ]
  },
  {
   "cell_type": "code",
   "execution_count": 12,
   "id": "3b6c2bf5",
   "metadata": {},
   "outputs": [
    {
     "data": {
      "text/plain": [
       "'30819f300d06092a864886f70d010101050003818d0030818902818100d1626d9272386be1d65a533b4461f9c2b5dbbdc9abeeb8fd36b137b708da619e34457b09ed00241539f5ab05edafb776e01bcefdc48bcbc82d21d89ce630460a9e2bd90012a4df3d877bb11199d1eddb55e926dadafcf01e0fb189726473493a685250e2896128e9ba3797ac97fa83204833c5d827a6e3bf5d76914fd85b24050203010001'"
      ]
     },
     "execution_count": 12,
     "metadata": {},
     "output_type": "execute_result"
    }
   ],
   "source": [
    "c = Client()\n",
    "c.identity"
   ]
  },
  {
   "cell_type": "code",
   "execution_count": 15,
   "id": "dde03388",
   "metadata": {},
   "outputs": [
    {
     "data": {
      "text/plain": [
       "'3082025e02010002818100d1626d9272386be1d65a533b4461f9c2b5dbbdc9abeeb8fd36b137b708da619e34457b09ed00241539f5ab05edafb776e01bcefdc48bcbc82d21d89ce630460a9e2bd90012a4df3d877bb11199d1eddb55e926dadafcf01e0fb189726473493a685250e2896128e9ba3797ac97fa83204833c5d827a6e3bf5d76914fd85b2405020301000102818050d043072f538c7bed3e0e7ac50165a31b8ab4dd16217cbfaa70cad6b7b185d4c84afada9161290c124339df7f65ff13001b6b9031605d6624d937e012ce15f1c7591be2a4357d872b8bc296e971f8567917ee8e66548b8d1a7d272afe016a492b060e59283d7d360cda481310478c242ff1653bc0b7d5b61080ec5e82fbce2f024100dfc043b3591c10e0037e62fd19782ec5a5ee95cd9d5a23f148c115606e145d7e4e5ea3c5c4c6942b712632c6e28cf19edbae809ed35be34c84d6b518a49dc1bb024100ef9014d821e7510c57550e4ac9f3370bff5a185914fb380bb3b6569b6bc8696c8229c9cae13fcc5382b51d163e8eeff87419a7868a8a19b7561cb23c3d1a753f024100b64cdbdc003a51b572a342db9c28c352ddc2e9e2c0d5747b5e1f92df22510d6b9f469480c9b6517aa391cfc523485a8467d0619305f9d3d3c0577eed39121f89024100970b482931cf3009d0f27eed66c1639ebbe4a95f595c3fed18e5495bfb2c445437097402e7dc9aceb8a5caee20896d0240e97ff7d357d978ffe15dfb9f27146f024100c81e38207c8c19b500883bce5e854068428123c7e929db2f059c7fe4d17b3d55a3b894bfb2a1762a4a9ca79bb2d13aa77b97b5af7c4f58823e21f72e6375fc49'"
      ]
     },
     "execution_count": 15,
     "metadata": {},
     "output_type": "execute_result"
    }
   ],
   "source": [
    "binascii.hexlify(c._private_key.exportKey(format='DER')).decode('ascii')\n"
   ]
  },
  {
   "cell_type": "code",
   "execution_count": 16,
   "id": "fc695d02",
   "metadata": {},
   "outputs": [],
   "source": [
    "class Transaction:\n",
    "    def __init__(self, sender, recipient, value):\n",
    "        self.sender = sender\n",
    "        self.recipient = recipient\n",
    "        self.value = value\n",
    "        self.time = datetime.datetime.now()\n",
    "        \n",
    "    def to_dict(self):\n",
    "        if self.sender == \"Genesis\":\n",
    "            identity = \"Genesis\"\n",
    "        else:\n",
    "            identity = self.sender.identity\n",
    "\n",
    "        return collections.OrderedDict({'sender': identity, 'recipient': self.recipient, \n",
    "                                        'value': self.value, 'time' : self.time})\n",
    "    \n",
    "    def sign_transaction(self):\n",
    "        private_key = self.sender._private_key\n",
    "        signer = PKCS1_v1_5.new(private_key)\n",
    "        h = SHA.new(str(self.to_dict()).encode('utf8'))\n",
    "        return binascii.hexlify(signer.sign(h)).decode('ascii')\n"
   ]
  },
  {
   "cell_type": "code",
   "execution_count": 17,
   "id": "00a9e420",
   "metadata": {},
   "outputs": [],
   "source": [
    "c1 = Client()\n",
    "c2 = Client()"
   ]
  },
  {
   "cell_type": "code",
   "execution_count": 18,
   "id": "31dff4bd",
   "metadata": {},
   "outputs": [],
   "source": [
    "t = Transaction(c1, c2.identity, 5.0)"
   ]
  },
  {
   "cell_type": "code",
   "execution_count": 19,
   "id": "df705f80",
   "metadata": {},
   "outputs": [
    {
     "data": {
      "text/plain": [
       "'65e26a32d1779aa06068792e28e777bcda3ca08b6d3ae7a32553dd06289fc82fa1b02677f404a74a8eb208614a27c50648cd5f7441f44e4bb686c4d4e8fd235643038784f0ff052019be1105bbcc37100677c692378d8859d4f30dc4a66996b9c5a7276a356423f2144ec9526f9520f3d7ac566fd719b8fe0f780f902e3cf434'"
      ]
     },
     "execution_count": 19,
     "metadata": {},
     "output_type": "execute_result"
    }
   ],
   "source": [
    "signature = t.sign_transaction()\n",
    "signature"
   ]
  },
  {
   "cell_type": "code",
   "execution_count": 20,
   "id": "137a2918",
   "metadata": {},
   "outputs": [],
   "source": [
    "def display_transaction(transaction):\n",
    "    #for transaction in transactions:\n",
    "    dict = transaction.to_dict()\n",
    "    print (\"sender: \" + dict['sender'])\n",
    "    print ('-----')\n",
    "    print (\"recipient: \" + dict['recipient'])\n",
    "    print ('-----')\n",
    "    print (\"value: \" + str(dict['value']))\n",
    "    print ('-----')\n",
    "    print (\"time: \" + str(dict['time']))\n",
    "    print ('-----')"
   ]
  },
  {
   "cell_type": "code",
   "execution_count": 21,
   "id": "9f73ad40",
   "metadata": {},
   "outputs": [
    {
     "name": "stdout",
     "output_type": "stream",
     "text": [
      "sender: 30819f300d06092a864886f70d010101050003818d0030818902818100eed87a1f8f534fe04a04621661269fd402a8163520fc5358df3e8b99690e47b96831341ead8719caefe7358f701a4102d6860c0724d4ebfa4abc971a2ad27aa7d8f337fae6efc195beac2179560a4ebb743d2ba040020e673ad68e0d7f9150956a04c4d167e851fecc08b4068cf31f6d99c41418a9ca91376a1d506ed7395a010203010001\n",
      "-----\n",
      "recipient: 30819f300d06092a864886f70d010101050003818d0030818902818100ba78af439e0a7da86e1d04cb991c28238be32f34c8104d948f085ded4d9b3978f1a389e820d15bd85f8dd77e8ff39d92f169d1dfbbaf40575130df58bf7ba19d3d9f934428082bef035bd8bdb93353aef72e07386052192970645641eb72e254c093511abe9220bdf6db1994d1d347d5b778eb29cd7393333826a0017234d22f0203010001\n",
      "-----\n",
      "value: 5.0\n",
      "-----\n",
      "time: 2022-03-28 17:51:24.696673\n",
      "-----\n"
     ]
    }
   ],
   "source": [
    "display_transaction(t)"
   ]
  },
  {
   "cell_type": "code",
   "execution_count": 22,
   "id": "a2fd0642",
   "metadata": {},
   "outputs": [],
   "source": [
    "transactions = []"
   ]
  },
  {
   "cell_type": "code",
   "execution_count": 23,
   "id": "df5fabba",
   "metadata": {},
   "outputs": [],
   "source": [
    "c3 = Client()\n",
    "c4 = Client()"
   ]
  },
  {
   "cell_type": "code",
   "execution_count": 24,
   "id": "58dac9d8",
   "metadata": {},
   "outputs": [],
   "source": [
    "t1 = Transaction(c1, c2.identity, 15.0)"
   ]
  },
  {
   "cell_type": "code",
   "execution_count": 25,
   "id": "31e825a5",
   "metadata": {},
   "outputs": [],
   "source": [
    "t1.sign_transaction()\n",
    "transactions.append(t1)"
   ]
  },
  {
   "cell_type": "code",
   "execution_count": 26,
   "id": "c1e1829c",
   "metadata": {},
   "outputs": [],
   "source": [
    "t2 = Transaction(c3, c4.identity, 6.0)\n",
    "t2.sign_transaction()\n",
    "transactions.append(t2)\n",
    "\n",
    "t3 = Transaction(c1, c4.identity, 2.0)\n",
    "t3.sign_transaction()\n",
    "transactions.append(t3)\n",
    "\n",
    "t4 = Transaction(c4, c2.identity, 12.0)\n",
    "t4.sign_transaction()\n",
    "transactions.append(t4)\n",
    "\n",
    "t5 = Transaction(c3, c4.identity, 2.0)\n",
    "t5.sign_transaction()\n",
    "transactions.append(t5)\n",
    "\n",
    "t6 = Transaction(c3, c1.identity, 22.0)\n",
    "t6.sign_transaction()\n",
    "transactions.append(t6)\n",
    "\n",
    "t7 = Transaction(c2, c4.identity, 125.0)\n",
    "t7.sign_transaction()\n",
    "transactions.append(t7)\n",
    "\n",
    "t8 = Transaction(c4, c3.identity, 42.0)\n",
    "t8.sign_transaction()\n",
    "transactions.append(t8)\n",
    "\n",
    "t9 = Transaction(c3, c1.identity, 2.0)\n",
    "t9.sign_transaction()\n",
    "transactions.append(t9)\n",
    "\n",
    "t10 = Transaction(c2, c1.identity, 5.0)\n",
    "t10.sign_transaction()\n",
    "transactions.append(t10)"
   ]
  },
  {
   "cell_type": "code",
   "execution_count": 27,
   "id": "5cc71563",
   "metadata": {},
   "outputs": [
    {
     "name": "stdout",
     "output_type": "stream",
     "text": [
      "sender: 30819f300d06092a864886f70d010101050003818d0030818902818100eed87a1f8f534fe04a04621661269fd402a8163520fc5358df3e8b99690e47b96831341ead8719caefe7358f701a4102d6860c0724d4ebfa4abc971a2ad27aa7d8f337fae6efc195beac2179560a4ebb743d2ba040020e673ad68e0d7f9150956a04c4d167e851fecc08b4068cf31f6d99c41418a9ca91376a1d506ed7395a010203010001\n",
      "-----\n",
      "recipient: 30819f300d06092a864886f70d010101050003818d0030818902818100ba78af439e0a7da86e1d04cb991c28238be32f34c8104d948f085ded4d9b3978f1a389e820d15bd85f8dd77e8ff39d92f169d1dfbbaf40575130df58bf7ba19d3d9f934428082bef035bd8bdb93353aef72e07386052192970645641eb72e254c093511abe9220bdf6db1994d1d347d5b778eb29cd7393333826a0017234d22f0203010001\n",
      "-----\n",
      "value: 15.0\n",
      "-----\n",
      "time: 2022-03-28 18:08:27.403827\n",
      "-----\n",
      "--------------\n",
      "sender: 30819f300d06092a864886f70d010101050003818d0030818902818100e78fccd6888c53e93c97a55b4f95b4a1be36fe7162b733915bf6da931f968c293b52a72141178af6882336ddc0b1564d1d0cc693c6695af8a312b299091943debba67db762a2a60db5fd342e95c06b57c027dc86f9549d8cf72fa18d5185b995024c954932bf9d8f394517a5b648f3a0adb02c6612b2f1ca730f87b2a4b5e74d0203010001\n",
      "-----\n",
      "recipient: 30819f300d06092a864886f70d010101050003818d0030818902818100aa4dbe5858eceac53a94eccf9acc92d9034a9a967cb644ef93f5fdf20ab23acb3f02409a0c6f1be20ba57712c01b7972023ef6df7f0e75534797ee16d987c7f58c5fa75bca443ca3405a2d6ab09e10605dc75b629397a44bb95d265fbe5a9d1a8b5b2048f0470c38708ad4d8232d1aeaf08cab4b6a05af47096905b9affe2a8d0203010001\n",
      "-----\n",
      "value: 6.0\n",
      "-----\n",
      "time: 2022-03-28 18:11:52.539812\n",
      "-----\n",
      "--------------\n",
      "sender: 30819f300d06092a864886f70d010101050003818d0030818902818100eed87a1f8f534fe04a04621661269fd402a8163520fc5358df3e8b99690e47b96831341ead8719caefe7358f701a4102d6860c0724d4ebfa4abc971a2ad27aa7d8f337fae6efc195beac2179560a4ebb743d2ba040020e673ad68e0d7f9150956a04c4d167e851fecc08b4068cf31f6d99c41418a9ca91376a1d506ed7395a010203010001\n",
      "-----\n",
      "recipient: 30819f300d06092a864886f70d010101050003818d0030818902818100aa4dbe5858eceac53a94eccf9acc92d9034a9a967cb644ef93f5fdf20ab23acb3f02409a0c6f1be20ba57712c01b7972023ef6df7f0e75534797ee16d987c7f58c5fa75bca443ca3405a2d6ab09e10605dc75b629397a44bb95d265fbe5a9d1a8b5b2048f0470c38708ad4d8232d1aeaf08cab4b6a05af47096905b9affe2a8d0203010001\n",
      "-----\n",
      "value: 2.0\n",
      "-----\n",
      "time: 2022-03-28 18:11:52.547247\n",
      "-----\n",
      "--------------\n",
      "sender: 30819f300d06092a864886f70d010101050003818d0030818902818100aa4dbe5858eceac53a94eccf9acc92d9034a9a967cb644ef93f5fdf20ab23acb3f02409a0c6f1be20ba57712c01b7972023ef6df7f0e75534797ee16d987c7f58c5fa75bca443ca3405a2d6ab09e10605dc75b629397a44bb95d265fbe5a9d1a8b5b2048f0470c38708ad4d8232d1aeaf08cab4b6a05af47096905b9affe2a8d0203010001\n",
      "-----\n",
      "recipient: 30819f300d06092a864886f70d010101050003818d0030818902818100ba78af439e0a7da86e1d04cb991c28238be32f34c8104d948f085ded4d9b3978f1a389e820d15bd85f8dd77e8ff39d92f169d1dfbbaf40575130df58bf7ba19d3d9f934428082bef035bd8bdb93353aef72e07386052192970645641eb72e254c093511abe9220bdf6db1994d1d347d5b778eb29cd7393333826a0017234d22f0203010001\n",
      "-----\n",
      "value: 12.0\n",
      "-----\n",
      "time: 2022-03-28 18:11:52.550572\n",
      "-----\n",
      "--------------\n",
      "sender: 30819f300d06092a864886f70d010101050003818d0030818902818100e78fccd6888c53e93c97a55b4f95b4a1be36fe7162b733915bf6da931f968c293b52a72141178af6882336ddc0b1564d1d0cc693c6695af8a312b299091943debba67db762a2a60db5fd342e95c06b57c027dc86f9549d8cf72fa18d5185b995024c954932bf9d8f394517a5b648f3a0adb02c6612b2f1ca730f87b2a4b5e74d0203010001\n",
      "-----\n",
      "recipient: 30819f300d06092a864886f70d010101050003818d0030818902818100aa4dbe5858eceac53a94eccf9acc92d9034a9a967cb644ef93f5fdf20ab23acb3f02409a0c6f1be20ba57712c01b7972023ef6df7f0e75534797ee16d987c7f58c5fa75bca443ca3405a2d6ab09e10605dc75b629397a44bb95d265fbe5a9d1a8b5b2048f0470c38708ad4d8232d1aeaf08cab4b6a05af47096905b9affe2a8d0203010001\n",
      "-----\n",
      "value: 2.0\n",
      "-----\n",
      "time: 2022-03-28 18:11:52.555230\n",
      "-----\n",
      "--------------\n",
      "sender: 30819f300d06092a864886f70d010101050003818d0030818902818100e78fccd6888c53e93c97a55b4f95b4a1be36fe7162b733915bf6da931f968c293b52a72141178af6882336ddc0b1564d1d0cc693c6695af8a312b299091943debba67db762a2a60db5fd342e95c06b57c027dc86f9549d8cf72fa18d5185b995024c954932bf9d8f394517a5b648f3a0adb02c6612b2f1ca730f87b2a4b5e74d0203010001\n",
      "-----\n",
      "recipient: 30819f300d06092a864886f70d010101050003818d0030818902818100eed87a1f8f534fe04a04621661269fd402a8163520fc5358df3e8b99690e47b96831341ead8719caefe7358f701a4102d6860c0724d4ebfa4abc971a2ad27aa7d8f337fae6efc195beac2179560a4ebb743d2ba040020e673ad68e0d7f9150956a04c4d167e851fecc08b4068cf31f6d99c41418a9ca91376a1d506ed7395a010203010001\n",
      "-----\n",
      "value: 22.0\n",
      "-----\n",
      "time: 2022-03-28 18:11:52.558225\n",
      "-----\n",
      "--------------\n"
     ]
    }
   ],
   "source": [
    "for transaction in transactions:\n",
    "       display_transaction (transaction)\n",
    "       print ('--------------')"
   ]
  },
  {
   "cell_type": "markdown",
   "id": "f71f8e64",
   "metadata": {},
   "source": [
    "https://www.tutorialspoint.com/python_blockchain/python_blockchain_block_class.htm"
   ]
  },
  {
   "cell_type": "code",
   "execution_count": 29,
   "id": "479ac69d",
   "metadata": {},
   "outputs": [],
   "source": [
    "class Block:\n",
    "    def __init__(self):\n",
    "        self.verified_transactions = []\n",
    "        self.previous_block_hash = \"\"\n",
    "        self.Nonce = \"\"\n",
    "        "
   ]
  },
  {
   "cell_type": "code",
   "execution_count": 30,
   "id": "edf8a5d3",
   "metadata": {},
   "outputs": [],
   "source": [
    "last_block_hash = \"\""
   ]
  },
  {
   "cell_type": "code",
   "execution_count": 31,
   "id": "80ac57ca",
   "metadata": {},
   "outputs": [],
   "source": [
    "t0 = Transaction (\"Genesis\", c1.identity, 500.0)"
   ]
  },
  {
   "cell_type": "code",
   "execution_count": 32,
   "id": "b68f030e",
   "metadata": {},
   "outputs": [],
   "source": [
    "block0 = Block()"
   ]
  },
  {
   "cell_type": "code",
   "execution_count": 33,
   "id": "2c9ffa94",
   "metadata": {},
   "outputs": [],
   "source": [
    "block0.previous_block_hash = None\n",
    "Nonce = None"
   ]
  },
  {
   "cell_type": "code",
   "execution_count": 34,
   "id": "0529df7b",
   "metadata": {},
   "outputs": [],
   "source": [
    "block0.verified_transactions.append(t0)"
   ]
  },
  {
   "cell_type": "code",
   "execution_count": 35,
   "id": "c697f118",
   "metadata": {},
   "outputs": [],
   "source": [
    "digest = hash(block0)\n",
    "last_block_hash = digest"
   ]
  },
  {
   "cell_type": "code",
   "execution_count": 36,
   "id": "34e742f3",
   "metadata": {},
   "outputs": [],
   "source": [
    "TPCoins = []"
   ]
  },
  {
   "cell_type": "code",
   "execution_count": 38,
   "id": "36b5ae45",
   "metadata": {},
   "outputs": [],
   "source": [
    "def dump_blockchain (self):\n",
    "    print(\"Number of blocks in the chain: \" + str(len (self)))\n",
    "    \n",
    "    for x in range (len(TPCoins)):\n",
    "        block_temp = TPCoins[x]\n",
    "        print (\"block # \" + str(x))\n",
    "        for transaction in block_temp.verified_transactions:\n",
    "            display_transaction(transaction)\n",
    "            print ('--------------')\n",
    "        print ('=====================================')"
   ]
  },
  {
   "cell_type": "code",
   "execution_count": 39,
   "id": "3ecbb6f7",
   "metadata": {},
   "outputs": [],
   "source": [
    "TPCoins.append(block0)"
   ]
  },
  {
   "cell_type": "code",
   "execution_count": 40,
   "id": "05ef7a80",
   "metadata": {},
   "outputs": [
    {
     "name": "stdout",
     "output_type": "stream",
     "text": [
      "Number of blocks in the chain: 1\n",
      "block # 0\n",
      "sender: Genesis\n",
      "-----\n",
      "recipient: 30819f300d06092a864886f70d010101050003818d0030818902818100eed87a1f8f534fe04a04621661269fd402a8163520fc5358df3e8b99690e47b96831341ead8719caefe7358f701a4102d6860c0724d4ebfa4abc971a2ad27aa7d8f337fae6efc195beac2179560a4ebb743d2ba040020e673ad68e0d7f9150956a04c4d167e851fecc08b4068cf31f6d99c41418a9ca91376a1d506ed7395a010203010001\n",
      "-----\n",
      "value: 500.0\n",
      "-----\n",
      "time: 2022-03-28 19:11:19.084428\n",
      "-----\n",
      "--------------\n",
      "=====================================\n"
     ]
    }
   ],
   "source": [
    "dump_blockchain(TPCoins)"
   ]
  },
  {
   "cell_type": "markdown",
   "id": "b2cef04e",
   "metadata": {},
   "source": [
    "https://www.tutorialspoint.com/python_blockchain/python_blockchain_creating_miners.htm"
   ]
  },
  {
   "cell_type": "code",
   "execution_count": 41,
   "id": "aaddaa7b",
   "metadata": {},
   "outputs": [],
   "source": [
    "def sha256(message):\n",
    "    return hashlib.sha256(message.encode('ascii')).hexdigest()"
   ]
  },
  {
   "cell_type": "code",
   "execution_count": 62,
   "id": "65cbad49",
   "metadata": {},
   "outputs": [],
   "source": [
    "def mine(message, difficulty=1):\n",
    "    assert difficulty >= 1\n",
    "    prefix = '1' * difficulty\n",
    "    for i in range(10000):\n",
    "        digest = sha256(str(hash(message)) + str(i))\n",
    "        if digest.startswith(prefix):\n",
    "            print (\"after \" + str(i) + \" iterations found nonce: \"+ digest)\n",
    "            return digest\n"
   ]
  },
  {
   "cell_type": "code",
   "execution_count": 63,
   "id": "929af754",
   "metadata": {},
   "outputs": [
    {
     "name": "stdout",
     "output_type": "stream",
     "text": [
      "after 5824 iterations found nonce: 111926b32057fda34eec960f99e5351da836087f284972af8bea906e6906324b\n"
     ]
    },
    {
     "data": {
      "text/plain": [
       "'111926b32057fda34eec960f99e5351da836087f284972af8bea906e6906324b'"
      ]
     },
     "execution_count": 63,
     "metadata": {},
     "output_type": "execute_result"
    }
   ],
   "source": [
    "mine(\"this is a really long message\", 3)"
   ]
  },
  {
   "cell_type": "code",
   "execution_count": 64,
   "id": "72bbf8db",
   "metadata": {},
   "outputs": [],
   "source": [
    "last_transaction_index = 0"
   ]
  },
  {
   "cell_type": "code",
   "execution_count": 66,
   "id": "938c65ae",
   "metadata": {},
   "outputs": [
    {
     "name": "stdout",
     "output_type": "stream",
     "text": [
      "after 43 iterations found nonce: 116b28d8779567662d4e70aadf2d75481659fc9fdb4c5ec943f26424e1c56eb3\n"
     ]
    }
   ],
   "source": [
    "block = Block()\n",
    "for i in range(3):\n",
    "    temp_transaction = transactions[last_transaction_index]\n",
    "    # validate transaction\n",
    "    # if valid\n",
    "    block.verified_transactions.append(temp_transaction)\n",
    "    last_transaction_index += 1\n",
    "\n",
    "block.previous_block_hash = last_block_hash\n",
    "block.Nonce = mine(block, 2)\n",
    "digest = hash(block)\n",
    "TPCoins.append(block)\n",
    "last_block_hash = digest"
   ]
  },
  {
   "cell_type": "code",
   "execution_count": 75,
   "id": "571f7ecb",
   "metadata": {},
   "outputs": [
    {
     "data": {
      "text/plain": [
       "[<__main__.Block at 0x1116e8640>, <__main__.Block at 0x1116ee610>]"
      ]
     },
     "execution_count": 75,
     "metadata": {},
     "output_type": "execute_result"
    }
   ],
   "source": [
    "TPCoins"
   ]
  },
  {
   "cell_type": "code",
   "execution_count": 78,
   "id": "89ae6015",
   "metadata": {},
   "outputs": [
    {
     "name": "stdout",
     "output_type": "stream",
     "text": [
      "after 653 iterations found nonce: 11f0a25c1ab6d12292e225a154df013ed62254506dfcc9bc1a46113fbf7e690e\n"
     ]
    },
    {
     "ename": "IndexError",
     "evalue": "list index out of range",
     "output_type": "error",
     "traceback": [
      "\u001b[0;31m---------------------------------------------------------------------------\u001b[0m",
      "\u001b[0;31mIndexError\u001b[0m                                Traceback (most recent call last)",
      "Input \u001b[0;32mIn [78]\u001b[0m, in \u001b[0;36m<cell line: 20>\u001b[0;34m()\u001b[0m\n\u001b[1;32m     18\u001b[0m block \u001b[38;5;241m=\u001b[39m Block()\n\u001b[1;32m     20\u001b[0m \u001b[38;5;28;01mfor\u001b[39;00m i \u001b[38;5;129;01min\u001b[39;00m \u001b[38;5;28mrange\u001b[39m(\u001b[38;5;241m3\u001b[39m):\n\u001b[0;32m---> 21\u001b[0m     temp_transaction \u001b[38;5;241m=\u001b[39m \u001b[43mtransactions\u001b[49m\u001b[43m[\u001b[49m\u001b[43mlast_transaction_index\u001b[49m\u001b[43m]\u001b[49m\n\u001b[1;32m     22\u001b[0m     \u001b[38;5;66;03m#display_transaction (temp_transaction)\u001b[39;00m\n\u001b[1;32m     23\u001b[0m     \u001b[38;5;66;03m# validate transaction\u001b[39;00m\n\u001b[1;32m     24\u001b[0m     \u001b[38;5;66;03m# if valid\u001b[39;00m\n\u001b[1;32m     25\u001b[0m     block\u001b[38;5;241m.\u001b[39mverified_transactions\u001b[38;5;241m.\u001b[39mappend (temp_transaction)\n",
      "\u001b[0;31mIndexError\u001b[0m: list index out of range"
     ]
    }
   ],
   "source": [
    "# Miner 2 adds a block\n",
    "block = Block()\n",
    "\n",
    "for i in range(3):\n",
    "    temp_transaction = transactions[last_transaction_index]\n",
    "    # validate transaction\n",
    "    # if valid\n",
    "    block.verified_transactions.append (temp_transaction)\n",
    "    last_transaction_index += 1\n",
    "block.previous_block_hash = last_block_hash\n",
    "block.Nonce = mine (block, 2)\n",
    "digest = hash (block)\n",
    "TPCoins.append (block)\n",
    "last_block_hash = digest\n",
    "\n",
    "\n",
    "# Miner 3 adds a block\n",
    "block = Block()\n",
    "\n",
    "for i in range(3):\n",
    "    temp_transaction = transactions[last_transaction_index]\n",
    "    #display_transaction (temp_transaction)\n",
    "    # validate transaction\n",
    "    # if valid\n",
    "    block.verified_transactions.append (temp_transaction)\n",
    "    last_transaction_index += 1\n",
    "\n",
    "block.previous_block_hash = last_block_hash\n",
    "block.Nonce = mine(block, 2)\n",
    "digest = hash(block)\n",
    "\n",
    "TPCoins.append (block)\n",
    "last_block_hash = digest\n"
   ]
  },
  {
   "cell_type": "code",
   "execution_count": null,
   "id": "360bcf16",
   "metadata": {},
   "outputs": [],
   "source": []
  }
 ],
 "metadata": {
  "kernelspec": {
   "display_name": "Python 3 (ipykernel)",
   "language": "python",
   "name": "python3"
  },
  "language_info": {
   "codemirror_mode": {
    "name": "ipython",
    "version": 3
   },
   "file_extension": ".py",
   "mimetype": "text/x-python",
   "name": "python",
   "nbconvert_exporter": "python",
   "pygments_lexer": "ipython3",
   "version": "3.9.10"
  }
 },
 "nbformat": 4,
 "nbformat_minor": 5
}
