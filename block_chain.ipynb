{
 "cells": [
  {
   "cell_type": "markdown",
   "id": "195f8052",
   "metadata": {},
   "source": [
    "https://www.tutorialspoint.com/python_blockchain/index.htm"
   ]
  },
  {
   "cell_type": "code",
   "execution_count": 151,
   "id": "1589a4d2",
   "metadata": {},
   "outputs": [],
   "source": [
    "import hashlib\n",
    "import random\n",
    "import string\n",
    "import json\n",
    "import binascii\n",
    "import numpy as np\n",
    "import pandas as pd\n",
    "import pylab as pl\n",
    "import logging\n",
    "import datetime\n",
    "import collections\n"
   ]
  },
  {
   "cell_type": "code",
   "execution_count": 152,
   "id": "2f4195ad",
   "metadata": {},
   "outputs": [],
   "source": [
    "import Crypto\n",
    "import Crypto.Random\n",
    "from Crypto.Hash import SHA\n",
    "from Crypto.PublicKey import RSA\n",
    "from Crypto.Signature import PKCS1_v1_5"
   ]
  },
  {
   "cell_type": "code",
   "execution_count": 153,
   "id": "c887e282",
   "metadata": {},
   "outputs": [],
   "source": [
    "class Client:\n",
    "    def __init__(self):\n",
    "        random = Crypto.Random.new().read\n",
    "        self._private_key = RSA.generate(1024, random)\n",
    "        self._public_key = self._private_key.publickey()\n",
    "        self._signer = PKCS1_v1_5.new(self._private_key)\n",
    "\n",
    "    @property\n",
    "    def identity(self):\n",
    "        return binascii.hexlify(self._public_key.exportKey(format='DER')).decode('ascii')"
   ]
  },
  {
   "cell_type": "code",
   "execution_count": 155,
   "id": "3b6c2bf5",
   "metadata": {},
   "outputs": [
    {
     "data": {
      "text/plain": [
       "'30819f300d06092a864886f70d010101050003818d0030818902818100cce1b7df40ee619403d934a1b99fc7eabe8294d5be101bd8c8376cd1b2ed2cbb5a6ab68be53a4dc9d3c12ba4bc3238495428436242f5043cb7ca2d3729dab0a386952fdaf070518f6aead3abadb2d02c13acff92b06bfb6047fc843345eaaaa7e448638ddf0405bac79098674565ee2df7fedab2e529c5d5f71722a0133602bb0203010001'"
      ]
     },
     "execution_count": 155,
     "metadata": {},
     "output_type": "execute_result"
    }
   ],
   "source": [
    "c = Client()\n",
    "c.identity"
   ]
  },
  {
   "cell_type": "code",
   "execution_count": 160,
   "id": "dde03388",
   "metadata": {},
   "outputs": [
    {
     "name": "stdout",
     "output_type": "stream",
     "text": [
      "3082025d02010002818100cce1b7df40ee619403d934a1b99fc7eabe8294d5be101bd8c8376cd1b2ed2cbb5a6ab68be53a4dc9d3c12ba4bc3238495428436242f5043cb7ca2d3729dab0a386952fdaf070518f6aead3abadb2d02c13acff92b06bfb6047fc843345eaaaa7e448638ddf0405bac79098674565ee2df7fedab2e529c5d5f71722a0133602bb0203010001028180200f25e582548ae24d63dc8f7deb59ae0ad7861098280f2371d8f26731d7590b8c0f6cb7214c6945aea3e87f638f7c2d4544f39e5999db6ae0db7b0dc9b7d5b1c9340024b9708679a2243be90acad72312dfd8a2fff9bb412af0c0bb638dd1d085c015e66a290d1d2575157f9c00305eba2f21346cfda8b83b1b74fa6277a4a1024100dd905a350477c7ee0e9e44a39f7d4eddaf7c2e4c6b32f00b47de39551ad77e1b7e6e1c63efd042df76d2357de59121b2050a7d383aedca5d64b07478874293f1024100ecb99c7055ef3413a0b3c199b97c6d8ff1ef6024e106bcb985f96798e3399562e5004e573dd34bad24cd63f7bda61b9ecf22b668f6056b62822ec29419fdfd6b024100c067aaee7f82c54c25c5ab35ac3ad5520e2278d24405680f63c9c75ff07f5233ee071100783112e19bfdd0161455843d63c3481a9c92033a374644dea6175b01024100b98ab5c21aa8d5117948cb3a98f69ccd511c852802b40c22018f3d12c92e6e1748545812eb237cd225e1523470920c5e0a0e3418ca93eeda141d60674284202702406c7f552eb7a0af5d30759b976cf2ab42c3c23dd3884b1efc082f5328be7c175a1104fca3e070be8f2ffa3cce80f50d781b5a58a170490554915ef84c2a5464bf\n"
     ]
    }
   ],
   "source": [
    "print(binascii.hexlify(c._private_key.exportKey(format='DER')).decode('ascii'))\n",
    "# type(binascii.hexlify(c._private_key.exportKey(format='DER')))\n",
    "# type(binascii.hexlify(c._private_key.exportKey(format='DER')).decode('ascii'))"
   ]
  },
  {
   "cell_type": "code",
   "execution_count": 120,
   "id": "fc695d02",
   "metadata": {},
   "outputs": [],
   "source": [
    "class Transaction:\n",
    "    def __init__(self, sender, recipient, value):\n",
    "        self.sender = sender\n",
    "        self.recipient = recipient\n",
    "        self.value = value\n",
    "        self.time = datetime.datetime.now()\n",
    "        \n",
    "    def to_dict(self):\n",
    "        if self.sender == \"Genesis\":\n",
    "            identity = \"Genesis\"\n",
    "        else:\n",
    "            identity = self.sender.identity\n",
    "\n",
    "        return collections.OrderedDict({'sender': identity, 'recipient': self.recipient, \n",
    "                                        'value': self.value, 'time' : self.time})\n",
    "    \n",
    "    def sign_transaction(self):\n",
    "        private_key = self.sender._private_key\n",
    "        signer = PKCS1_v1_5.new(private_key)\n",
    "        h = SHA.new(str(self.to_dict()).encode('utf8'))\n",
    "        return binascii.hexlify(signer.sign(h)).decode('ascii')\n"
   ]
  },
  {
   "cell_type": "code",
   "execution_count": 121,
   "id": "00a9e420",
   "metadata": {},
   "outputs": [],
   "source": [
    "c1 = Client()\n",
    "c2 = Client()"
   ]
  },
  {
   "cell_type": "code",
   "execution_count": 122,
   "id": "31dff4bd",
   "metadata": {},
   "outputs": [],
   "source": [
    "t = Transaction(c1, c2.identity, 5.0)"
   ]
  },
  {
   "cell_type": "code",
   "execution_count": 123,
   "id": "df705f80",
   "metadata": {},
   "outputs": [
    {
     "data": {
      "text/plain": [
       "'5aa1ea9ff81c2d012f225023037e5b151a69142acb2838c231121c0ba1328e4448bc158e1233022a99225cc1409be49d1f2ef65d01a24309fb9be870850bef35b4df7c90db21c4375519b71dda0ebe6fb0deccaf3c28279b950c26dd22f32a05467518e6bce91adc9fa4290eee7fd6bad0fb47d3df74a9f644c73c7b2663a733'"
      ]
     },
     "execution_count": 123,
     "metadata": {},
     "output_type": "execute_result"
    }
   ],
   "source": [
    "signature = t.sign_transaction()\n",
    "signature"
   ]
  },
  {
   "cell_type": "code",
   "execution_count": 124,
   "id": "137a2918",
   "metadata": {},
   "outputs": [],
   "source": [
    "def display_transaction(transaction):\n",
    "    #for transaction in transactions:\n",
    "    dict = transaction.to_dict()\n",
    "    print(\"sender: \" + dict['sender'])\n",
    "    print('-----')\n",
    "    print(\"recipient: \" + dict['recipient'])\n",
    "    print('-----')\n",
    "    print(\"value: \" + str(dict['value']))\n",
    "    print('-----')\n",
    "    print(\"time: \" + str(dict['time']))\n",
    "    print('-----')"
   ]
  },
  {
   "cell_type": "code",
   "execution_count": 125,
   "id": "9f73ad40",
   "metadata": {},
   "outputs": [
    {
     "name": "stdout",
     "output_type": "stream",
     "text": [
      "sender: 30819f300d06092a864886f70d010101050003818d003081890281810098b604bf7ba093b68fd35872de6edc52efe75cdfbb2005068d7d8ef65af73d7eafbf2ce91062e96818b8ed2706dd60bd095195b058b0652b779a34d58625d82114734b2a391c54eea52f603934b972e85dea212b5a80ce123703c57ab6dcfef5f7a65ddc9bfec4034d459fdf31fc93ab697af078799df90e267b363b8a6cac1b0203010001\n",
      "-----\n",
      "recipient: 30819f300d06092a864886f70d010101050003818d0030818902818100c783c372529dcefa4605d35aaf3c6ecd1f06d46a2e331397fe34d1cc12c73ca3be06808435d383103b25fd67839c055c1ac426fc3260448ac3fc414c5559e659f403654ac9d77eb22b5e72597ff9ca3135db9bc6e92d5c05bdb522056ef0722e5a35c8888b33581dd5d0f7ae6ea2e2185383c97e3d86a122b2870c08f5ad450b0203010001\n",
      "-----\n",
      "value: 5.0\n",
      "-----\n",
      "time: 2022-03-28 22:15:15.872074\n",
      "-----\n"
     ]
    }
   ],
   "source": [
    "display_transaction(t)"
   ]
  },
  {
   "cell_type": "code",
   "execution_count": 126,
   "id": "a2fd0642",
   "metadata": {},
   "outputs": [],
   "source": [
    "transactions = []"
   ]
  },
  {
   "cell_type": "code",
   "execution_count": 127,
   "id": "df5fabba",
   "metadata": {},
   "outputs": [],
   "source": [
    "c3 = Client()\n",
    "c4 = Client()"
   ]
  },
  {
   "cell_type": "code",
   "execution_count": 128,
   "id": "58dac9d8",
   "metadata": {},
   "outputs": [],
   "source": [
    "t1 = Transaction(c1, c2.identity, 15.0)"
   ]
  },
  {
   "cell_type": "code",
   "execution_count": 129,
   "id": "31e825a5",
   "metadata": {},
   "outputs": [],
   "source": [
    "t1.sign_transaction()\n",
    "transactions.append(t1)"
   ]
  },
  {
   "cell_type": "code",
   "execution_count": 130,
   "id": "c1e1829c",
   "metadata": {},
   "outputs": [],
   "source": [
    "t2 = Transaction(c3, c4.identity, 6.0)\n",
    "t2.sign_transaction()\n",
    "transactions.append(t2)\n",
    "\n",
    "t3 = Transaction(c1, c4.identity, 2.0)\n",
    "t3.sign_transaction()\n",
    "transactions.append(t3)\n",
    "\n",
    "t4 = Transaction(c4, c2.identity, 12.0)\n",
    "t4.sign_transaction()\n",
    "transactions.append(t4)\n",
    "\n",
    "t5 = Transaction(c3, c4.identity, 2.0)\n",
    "t5.sign_transaction()\n",
    "transactions.append(t5)\n",
    "\n",
    "t6 = Transaction(c3, c1.identity, 22.0)\n",
    "t6.sign_transaction()\n",
    "transactions.append(t6)\n",
    "\n",
    "t7 = Transaction(c2, c4.identity, 125.0)\n",
    "t7.sign_transaction()\n",
    "transactions.append(t7)\n",
    "\n",
    "t8 = Transaction(c4, c3.identity, 42.0)\n",
    "t8.sign_transaction()\n",
    "transactions.append(t8)\n",
    "\n",
    "t9 = Transaction(c3, c1.identity, 2.0)\n",
    "t9.sign_transaction()\n",
    "transactions.append(t9)\n",
    "\n",
    "t10 = Transaction(c2, c1.identity, 5.0)\n",
    "t10.sign_transaction()\n",
    "transactions.append(t10)"
   ]
  },
  {
   "cell_type": "code",
   "execution_count": 131,
   "id": "5cc71563",
   "metadata": {},
   "outputs": [
    {
     "name": "stdout",
     "output_type": "stream",
     "text": [
      "sender: 30819f300d06092a864886f70d010101050003818d003081890281810098b604bf7ba093b68fd35872de6edc52efe75cdfbb2005068d7d8ef65af73d7eafbf2ce91062e96818b8ed2706dd60bd095195b058b0652b779a34d58625d82114734b2a391c54eea52f603934b972e85dea212b5a80ce123703c57ab6dcfef5f7a65ddc9bfec4034d459fdf31fc93ab697af078799df90e267b363b8a6cac1b0203010001\n",
      "-----\n",
      "recipient: 30819f300d06092a864886f70d010101050003818d0030818902818100c783c372529dcefa4605d35aaf3c6ecd1f06d46a2e331397fe34d1cc12c73ca3be06808435d383103b25fd67839c055c1ac426fc3260448ac3fc414c5559e659f403654ac9d77eb22b5e72597ff9ca3135db9bc6e92d5c05bdb522056ef0722e5a35c8888b33581dd5d0f7ae6ea2e2185383c97e3d86a122b2870c08f5ad450b0203010001\n",
      "-----\n",
      "value: 15.0\n",
      "-----\n",
      "time: 2022-03-28 22:15:16.430052\n",
      "-----\n",
      "--------------\n",
      "sender: 30819f300d06092a864886f70d010101050003818d0030818902818100b9ec55650f19c77f14a26c37fb8019322be77cac4c9db6b7f3cc27affe66bf33b606fc5f0bad928731f64d4d6200f66365d04e39e0af5499e37e5997f57025fe43dac54f14aaaccdb2cf1a02dfce060cce4a2ba32826a86c9188141fc8105be8be6271e9c4062b65632f498bc0fb11759da71105ccc16a94c9bfc9986deea4630203010001\n",
      "-----\n",
      "recipient: 30819f300d06092a864886f70d010101050003818d0030818902818100c6baf2c12359d28670477fc3990a17e54b105cac99e3509d225f217cd7be86af5bbae1e7fd75666080f8bce2e50b0539c2de9a12c7f87b038ac07488d5b05c87afbe752587fc9e1047174d7e3680905dbd865f146517dc9be09bb2551ab736e316958ace71b71185248e7b8abdc72c3c73f46a01cf28f50a5d711afe66d5b93d0203010001\n",
      "-----\n",
      "value: 6.0\n",
      "-----\n",
      "time: 2022-03-28 22:15:16.464643\n",
      "-----\n",
      "--------------\n",
      "sender: 30819f300d06092a864886f70d010101050003818d003081890281810098b604bf7ba093b68fd35872de6edc52efe75cdfbb2005068d7d8ef65af73d7eafbf2ce91062e96818b8ed2706dd60bd095195b058b0652b779a34d58625d82114734b2a391c54eea52f603934b972e85dea212b5a80ce123703c57ab6dcfef5f7a65ddc9bfec4034d459fdf31fc93ab697af078799df90e267b363b8a6cac1b0203010001\n",
      "-----\n",
      "recipient: 30819f300d06092a864886f70d010101050003818d0030818902818100c6baf2c12359d28670477fc3990a17e54b105cac99e3509d225f217cd7be86af5bbae1e7fd75666080f8bce2e50b0539c2de9a12c7f87b038ac07488d5b05c87afbe752587fc9e1047174d7e3680905dbd865f146517dc9be09bb2551ab736e316958ace71b71185248e7b8abdc72c3c73f46a01cf28f50a5d711afe66d5b93d0203010001\n",
      "-----\n",
      "value: 2.0\n",
      "-----\n",
      "time: 2022-03-28 22:15:16.471477\n",
      "-----\n",
      "--------------\n",
      "sender: 30819f300d06092a864886f70d010101050003818d0030818902818100c6baf2c12359d28670477fc3990a17e54b105cac99e3509d225f217cd7be86af5bbae1e7fd75666080f8bce2e50b0539c2de9a12c7f87b038ac07488d5b05c87afbe752587fc9e1047174d7e3680905dbd865f146517dc9be09bb2551ab736e316958ace71b71185248e7b8abdc72c3c73f46a01cf28f50a5d711afe66d5b93d0203010001\n",
      "-----\n",
      "recipient: 30819f300d06092a864886f70d010101050003818d0030818902818100c783c372529dcefa4605d35aaf3c6ecd1f06d46a2e331397fe34d1cc12c73ca3be06808435d383103b25fd67839c055c1ac426fc3260448ac3fc414c5559e659f403654ac9d77eb22b5e72597ff9ca3135db9bc6e92d5c05bdb522056ef0722e5a35c8888b33581dd5d0f7ae6ea2e2185383c97e3d86a122b2870c08f5ad450b0203010001\n",
      "-----\n",
      "value: 12.0\n",
      "-----\n",
      "time: 2022-03-28 22:15:16.476304\n",
      "-----\n",
      "--------------\n",
      "sender: 30819f300d06092a864886f70d010101050003818d0030818902818100b9ec55650f19c77f14a26c37fb8019322be77cac4c9db6b7f3cc27affe66bf33b606fc5f0bad928731f64d4d6200f66365d04e39e0af5499e37e5997f57025fe43dac54f14aaaccdb2cf1a02dfce060cce4a2ba32826a86c9188141fc8105be8be6271e9c4062b65632f498bc0fb11759da71105ccc16a94c9bfc9986deea4630203010001\n",
      "-----\n",
      "recipient: 30819f300d06092a864886f70d010101050003818d0030818902818100c6baf2c12359d28670477fc3990a17e54b105cac99e3509d225f217cd7be86af5bbae1e7fd75666080f8bce2e50b0539c2de9a12c7f87b038ac07488d5b05c87afbe752587fc9e1047174d7e3680905dbd865f146517dc9be09bb2551ab736e316958ace71b71185248e7b8abdc72c3c73f46a01cf28f50a5d711afe66d5b93d0203010001\n",
      "-----\n",
      "value: 2.0\n",
      "-----\n",
      "time: 2022-03-28 22:15:16.478691\n",
      "-----\n",
      "--------------\n",
      "sender: 30819f300d06092a864886f70d010101050003818d0030818902818100b9ec55650f19c77f14a26c37fb8019322be77cac4c9db6b7f3cc27affe66bf33b606fc5f0bad928731f64d4d6200f66365d04e39e0af5499e37e5997f57025fe43dac54f14aaaccdb2cf1a02dfce060cce4a2ba32826a86c9188141fc8105be8be6271e9c4062b65632f498bc0fb11759da71105ccc16a94c9bfc9986deea4630203010001\n",
      "-----\n",
      "recipient: 30819f300d06092a864886f70d010101050003818d003081890281810098b604bf7ba093b68fd35872de6edc52efe75cdfbb2005068d7d8ef65af73d7eafbf2ce91062e96818b8ed2706dd60bd095195b058b0652b779a34d58625d82114734b2a391c54eea52f603934b972e85dea212b5a80ce123703c57ab6dcfef5f7a65ddc9bfec4034d459fdf31fc93ab697af078799df90e267b363b8a6cac1b0203010001\n",
      "-----\n",
      "value: 22.0\n",
      "-----\n",
      "time: 2022-03-28 22:15:16.481056\n",
      "-----\n",
      "--------------\n",
      "sender: 30819f300d06092a864886f70d010101050003818d0030818902818100c783c372529dcefa4605d35aaf3c6ecd1f06d46a2e331397fe34d1cc12c73ca3be06808435d383103b25fd67839c055c1ac426fc3260448ac3fc414c5559e659f403654ac9d77eb22b5e72597ff9ca3135db9bc6e92d5c05bdb522056ef0722e5a35c8888b33581dd5d0f7ae6ea2e2185383c97e3d86a122b2870c08f5ad450b0203010001\n",
      "-----\n",
      "recipient: 30819f300d06092a864886f70d010101050003818d0030818902818100c6baf2c12359d28670477fc3990a17e54b105cac99e3509d225f217cd7be86af5bbae1e7fd75666080f8bce2e50b0539c2de9a12c7f87b038ac07488d5b05c87afbe752587fc9e1047174d7e3680905dbd865f146517dc9be09bb2551ab736e316958ace71b71185248e7b8abdc72c3c73f46a01cf28f50a5d711afe66d5b93d0203010001\n",
      "-----\n",
      "value: 125.0\n",
      "-----\n",
      "time: 2022-03-28 22:15:16.483948\n",
      "-----\n",
      "--------------\n",
      "sender: 30819f300d06092a864886f70d010101050003818d0030818902818100c6baf2c12359d28670477fc3990a17e54b105cac99e3509d225f217cd7be86af5bbae1e7fd75666080f8bce2e50b0539c2de9a12c7f87b038ac07488d5b05c87afbe752587fc9e1047174d7e3680905dbd865f146517dc9be09bb2551ab736e316958ace71b71185248e7b8abdc72c3c73f46a01cf28f50a5d711afe66d5b93d0203010001\n",
      "-----\n",
      "recipient: 30819f300d06092a864886f70d010101050003818d0030818902818100b9ec55650f19c77f14a26c37fb8019322be77cac4c9db6b7f3cc27affe66bf33b606fc5f0bad928731f64d4d6200f66365d04e39e0af5499e37e5997f57025fe43dac54f14aaaccdb2cf1a02dfce060cce4a2ba32826a86c9188141fc8105be8be6271e9c4062b65632f498bc0fb11759da71105ccc16a94c9bfc9986deea4630203010001\n",
      "-----\n",
      "value: 42.0\n",
      "-----\n",
      "time: 2022-03-28 22:15:16.488396\n",
      "-----\n",
      "--------------\n",
      "sender: 30819f300d06092a864886f70d010101050003818d0030818902818100b9ec55650f19c77f14a26c37fb8019322be77cac4c9db6b7f3cc27affe66bf33b606fc5f0bad928731f64d4d6200f66365d04e39e0af5499e37e5997f57025fe43dac54f14aaaccdb2cf1a02dfce060cce4a2ba32826a86c9188141fc8105be8be6271e9c4062b65632f498bc0fb11759da71105ccc16a94c9bfc9986deea4630203010001\n",
      "-----\n",
      "recipient: 30819f300d06092a864886f70d010101050003818d003081890281810098b604bf7ba093b68fd35872de6edc52efe75cdfbb2005068d7d8ef65af73d7eafbf2ce91062e96818b8ed2706dd60bd095195b058b0652b779a34d58625d82114734b2a391c54eea52f603934b972e85dea212b5a80ce123703c57ab6dcfef5f7a65ddc9bfec4034d459fdf31fc93ab697af078799df90e267b363b8a6cac1b0203010001\n",
      "-----\n",
      "value: 2.0\n",
      "-----\n",
      "time: 2022-03-28 22:15:16.490813\n",
      "-----\n",
      "--------------\n",
      "sender: 30819f300d06092a864886f70d010101050003818d0030818902818100c783c372529dcefa4605d35aaf3c6ecd1f06d46a2e331397fe34d1cc12c73ca3be06808435d383103b25fd67839c055c1ac426fc3260448ac3fc414c5559e659f403654ac9d77eb22b5e72597ff9ca3135db9bc6e92d5c05bdb522056ef0722e5a35c8888b33581dd5d0f7ae6ea2e2185383c97e3d86a122b2870c08f5ad450b0203010001\n",
      "-----\n",
      "recipient: 30819f300d06092a864886f70d010101050003818d003081890281810098b604bf7ba093b68fd35872de6edc52efe75cdfbb2005068d7d8ef65af73d7eafbf2ce91062e96818b8ed2706dd60bd095195b058b0652b779a34d58625d82114734b2a391c54eea52f603934b972e85dea212b5a80ce123703c57ab6dcfef5f7a65ddc9bfec4034d459fdf31fc93ab697af078799df90e267b363b8a6cac1b0203010001\n",
      "-----\n",
      "value: 5.0\n",
      "-----\n",
      "time: 2022-03-28 22:15:16.493153\n",
      "-----\n",
      "--------------\n"
     ]
    }
   ],
   "source": [
    "for transaction in transactions:\n",
    "       display_transaction(transaction)\n",
    "       print('--------------')"
   ]
  },
  {
   "cell_type": "markdown",
   "id": "f71f8e64",
   "metadata": {},
   "source": [
    "https://www.tutorialspoint.com/python_blockchain/python_blockchain_block_class.htm"
   ]
  },
  {
   "cell_type": "code",
   "execution_count": 132,
   "id": "479ac69d",
   "metadata": {},
   "outputs": [],
   "source": [
    "class Block:\n",
    "    def __init__(self):\n",
    "        self.verified_transactions = []\n",
    "        self.previous_block_hash = \"\"\n",
    "        self.Nonce = \"\"\n",
    "        "
   ]
  },
  {
   "cell_type": "code",
   "execution_count": 133,
   "id": "3edd7682",
   "metadata": {},
   "outputs": [],
   "source": [
    "last_block_hash = \"\""
   ]
  },
  {
   "cell_type": "code",
   "execution_count": 134,
   "id": "a88d100c",
   "metadata": {},
   "outputs": [],
   "source": [
    "t0 = Transaction(\"Genesis\", c1.identity, 500.0)"
   ]
  },
  {
   "cell_type": "code",
   "execution_count": 135,
   "id": "c6ba05c7",
   "metadata": {},
   "outputs": [],
   "source": [
    "block0 = Block()"
   ]
  },
  {
   "cell_type": "code",
   "execution_count": 136,
   "id": "60d2c965",
   "metadata": {},
   "outputs": [],
   "source": [
    "block0.previous_block_hash = None\n",
    "Nonce = None"
   ]
  },
  {
   "cell_type": "code",
   "execution_count": 137,
   "id": "d47cea78",
   "metadata": {},
   "outputs": [],
   "source": [
    "block0.verified_transactions.append(t0)"
   ]
  },
  {
   "cell_type": "code",
   "execution_count": 138,
   "id": "a7ae48fd",
   "metadata": {},
   "outputs": [],
   "source": [
    "digest = hash(block0)\n",
    "last_block_hash = digest"
   ]
  },
  {
   "cell_type": "code",
   "execution_count": 139,
   "id": "d3a6dfc8",
   "metadata": {},
   "outputs": [],
   "source": [
    "TPCoins = []"
   ]
  },
  {
   "cell_type": "code",
   "execution_count": 140,
   "id": "124fe787",
   "metadata": {},
   "outputs": [],
   "source": [
    "def dump_blockchain(self):\n",
    "    print(\"Number of blocks in the chain: \" + str(len(self)))\n",
    "    \n",
    "    for x in range(len(TPCoins)):\n",
    "        block_temp = TPCoins[x]\n",
    "        print(\"block # \" + str(x))\n",
    "        for transaction in block_temp.verified_transactions:\n",
    "            display_transaction(transaction)\n",
    "            print('--------------')\n",
    "        print('=====================================')"
   ]
  },
  {
   "cell_type": "code",
   "execution_count": 141,
   "id": "f13a32f0",
   "metadata": {},
   "outputs": [],
   "source": [
    "TPCoins.append(block0)"
   ]
  },
  {
   "cell_type": "code",
   "execution_count": 142,
   "id": "0b96f00b",
   "metadata": {},
   "outputs": [
    {
     "name": "stdout",
     "output_type": "stream",
     "text": [
      "Number of blocks in the chain: 1\n",
      "block # 0\n",
      "sender: Genesis\n",
      "-----\n",
      "recipient: 30819f300d06092a864886f70d010101050003818d003081890281810098b604bf7ba093b68fd35872de6edc52efe75cdfbb2005068d7d8ef65af73d7eafbf2ce91062e96818b8ed2706dd60bd095195b058b0652b779a34d58625d82114734b2a391c54eea52f603934b972e85dea212b5a80ce123703c57ab6dcfef5f7a65ddc9bfec4034d459fdf31fc93ab697af078799df90e267b363b8a6cac1b0203010001\n",
      "-----\n",
      "value: 500.0\n",
      "-----\n",
      "time: 2022-03-28 22:15:16.553412\n",
      "-----\n",
      "--------------\n",
      "=====================================\n"
     ]
    }
   ],
   "source": [
    "dump_blockchain(TPCoins)"
   ]
  },
  {
   "cell_type": "markdown",
   "id": "a06507ee",
   "metadata": {},
   "source": [
    "https://www.tutorialspoint.com/python_blockchain/python_blockchain_creating_miners.htm"
   ]
  },
  {
   "cell_type": "code",
   "execution_count": 143,
   "id": "77daf006",
   "metadata": {},
   "outputs": [],
   "source": [
    "def sha256(message):\n",
    "    return hashlib.sha256(message.encode('ascii')).hexdigest()"
   ]
  },
  {
   "cell_type": "code",
   "execution_count": 144,
   "id": "1e97ba88",
   "metadata": {},
   "outputs": [],
   "source": [
    "def mine(message, difficulty=1):\n",
    "    assert difficulty >= 1\n",
    "    prefix = '1' * difficulty\n",
    "    for i in range(10000):\n",
    "        digest = sha256(str(hash(message)) + str(i))\n",
    "        if digest.startswith(prefix):\n",
    "            print(\"after \" + str(i) + \" iterations found nonce: \"+ digest)\n",
    "            return digest\n"
   ]
  },
  {
   "cell_type": "code",
   "execution_count": 145,
   "id": "4a7db9c4",
   "metadata": {},
   "outputs": [
    {
     "name": "stdout",
     "output_type": "stream",
     "text": [
      "after 5824 iterations found nonce: 111926b32057fda34eec960f99e5351da836087f284972af8bea906e6906324b\n"
     ]
    },
    {
     "data": {
      "text/plain": [
       "'111926b32057fda34eec960f99e5351da836087f284972af8bea906e6906324b'"
      ]
     },
     "execution_count": 145,
     "metadata": {},
     "output_type": "execute_result"
    }
   ],
   "source": [
    "mine(\"this is a really long message\", 3)"
   ]
  },
  {
   "cell_type": "code",
   "execution_count": 146,
   "id": "bef35d8c",
   "metadata": {},
   "outputs": [],
   "source": [
    "last_transaction_index = 0"
   ]
  },
  {
   "cell_type": "code",
   "execution_count": 147,
   "id": "5905d95e",
   "metadata": {},
   "outputs": [
    {
     "name": "stdout",
     "output_type": "stream",
     "text": [
      "after 35 iterations found nonce: 117eced78be699210194d74e7303bf0235b9cb646710300f993b04bf505a5688\n"
     ]
    }
   ],
   "source": [
    "block = Block()\n",
    "for i in range(3):\n",
    "    temp_transaction = transactions[last_transaction_index]\n",
    "    # validate transaction\n",
    "    # if valid\n",
    "    block.verified_transactions.append(temp_transaction)\n",
    "    last_transaction_index += 1\n",
    "\n",
    "block.previous_block_hash = last_block_hash\n",
    "block.Nonce = mine(block, 2)\n",
    "digest = hash(block)\n",
    "TPCoins.append(block)\n",
    "last_block_hash = digest"
   ]
  },
  {
   "cell_type": "code",
   "execution_count": 148,
   "id": "b80538f4",
   "metadata": {},
   "outputs": [
    {
     "data": {
      "text/plain": [
       "[<__main__.Block at 0x1117e5790>, <__main__.Block at 0x1117efd60>]"
      ]
     },
     "execution_count": 148,
     "metadata": {},
     "output_type": "execute_result"
    }
   ],
   "source": [
    "TPCoins"
   ]
  },
  {
   "cell_type": "code",
   "execution_count": 149,
   "id": "d2108de4",
   "metadata": {},
   "outputs": [
    {
     "name": "stdout",
     "output_type": "stream",
     "text": [
      "after 118 iterations found nonce: 1191d3ef239101a33aae48912d72ca728a249587d56fd36e2ed257531d45adca\n",
      "after 1453 iterations found nonce: 113eb568bada80a1bd7e355ac55c225b30dfad1b442ad6d73b3c3c013479d9df\n"
     ]
    }
   ],
   "source": [
    "# Miner 2 adds a block\n",
    "block = Block()\n",
    "\n",
    "for i in range(3):\n",
    "    temp_transaction = transactions[last_transaction_index]\n",
    "    # validate transaction\n",
    "    # if valid\n",
    "    block.verified_transactions.append(temp_transaction)\n",
    "    last_transaction_index += 1\n",
    "block.previous_block_hash = last_block_hash\n",
    "block.Nonce = mine(block, 2)\n",
    "digest = hash(block)\n",
    "TPCoins.append(block)\n",
    "last_block_hash = digest\n",
    "\n",
    "\n",
    "# Miner 3 adds a block\n",
    "block = Block()\n",
    "\n",
    "for i in range(3):\n",
    "    temp_transaction = transactions[last_transaction_index]\n",
    "    #display_transaction(temp_transaction)\n",
    "    # validate transaction\n",
    "    # if valid\n",
    "    block.verified_transactions.append(temp_transaction)\n",
    "    last_transaction_index += 1\n",
    "\n",
    "block.previous_block_hash = last_block_hash\n",
    "block.Nonce = mine(block, 2)\n",
    "digest = hash(block)\n",
    "\n",
    "TPCoins.append(block)\n",
    "last_block_hash = digest\n"
   ]
  },
  {
   "cell_type": "code",
   "execution_count": 150,
   "id": "cb0a28da",
   "metadata": {},
   "outputs": [
    {
     "name": "stdout",
     "output_type": "stream",
     "text": [
      "Number of blocks in the chain: 4\n",
      "block # 0\n",
      "sender: Genesis\n",
      "-----\n",
      "recipient: 30819f300d06092a864886f70d010101050003818d003081890281810098b604bf7ba093b68fd35872de6edc52efe75cdfbb2005068d7d8ef65af73d7eafbf2ce91062e96818b8ed2706dd60bd095195b058b0652b779a34d58625d82114734b2a391c54eea52f603934b972e85dea212b5a80ce123703c57ab6dcfef5f7a65ddc9bfec4034d459fdf31fc93ab697af078799df90e267b363b8a6cac1b0203010001\n",
      "-----\n",
      "value: 500.0\n",
      "-----\n",
      "time: 2022-03-28 22:15:16.553412\n",
      "-----\n",
      "--------------\n",
      "=====================================\n",
      "block # 1\n",
      "sender: 30819f300d06092a864886f70d010101050003818d003081890281810098b604bf7ba093b68fd35872de6edc52efe75cdfbb2005068d7d8ef65af73d7eafbf2ce91062e96818b8ed2706dd60bd095195b058b0652b779a34d58625d82114734b2a391c54eea52f603934b972e85dea212b5a80ce123703c57ab6dcfef5f7a65ddc9bfec4034d459fdf31fc93ab697af078799df90e267b363b8a6cac1b0203010001\n",
      "-----\n",
      "recipient: 30819f300d06092a864886f70d010101050003818d0030818902818100c783c372529dcefa4605d35aaf3c6ecd1f06d46a2e331397fe34d1cc12c73ca3be06808435d383103b25fd67839c055c1ac426fc3260448ac3fc414c5559e659f403654ac9d77eb22b5e72597ff9ca3135db9bc6e92d5c05bdb522056ef0722e5a35c8888b33581dd5d0f7ae6ea2e2185383c97e3d86a122b2870c08f5ad450b0203010001\n",
      "-----\n",
      "value: 15.0\n",
      "-----\n",
      "time: 2022-03-28 22:15:16.430052\n",
      "-----\n",
      "--------------\n",
      "sender: 30819f300d06092a864886f70d010101050003818d0030818902818100b9ec55650f19c77f14a26c37fb8019322be77cac4c9db6b7f3cc27affe66bf33b606fc5f0bad928731f64d4d6200f66365d04e39e0af5499e37e5997f57025fe43dac54f14aaaccdb2cf1a02dfce060cce4a2ba32826a86c9188141fc8105be8be6271e9c4062b65632f498bc0fb11759da71105ccc16a94c9bfc9986deea4630203010001\n",
      "-----\n",
      "recipient: 30819f300d06092a864886f70d010101050003818d0030818902818100c6baf2c12359d28670477fc3990a17e54b105cac99e3509d225f217cd7be86af5bbae1e7fd75666080f8bce2e50b0539c2de9a12c7f87b038ac07488d5b05c87afbe752587fc9e1047174d7e3680905dbd865f146517dc9be09bb2551ab736e316958ace71b71185248e7b8abdc72c3c73f46a01cf28f50a5d711afe66d5b93d0203010001\n",
      "-----\n",
      "value: 6.0\n",
      "-----\n",
      "time: 2022-03-28 22:15:16.464643\n",
      "-----\n",
      "--------------\n",
      "sender: 30819f300d06092a864886f70d010101050003818d003081890281810098b604bf7ba093b68fd35872de6edc52efe75cdfbb2005068d7d8ef65af73d7eafbf2ce91062e96818b8ed2706dd60bd095195b058b0652b779a34d58625d82114734b2a391c54eea52f603934b972e85dea212b5a80ce123703c57ab6dcfef5f7a65ddc9bfec4034d459fdf31fc93ab697af078799df90e267b363b8a6cac1b0203010001\n",
      "-----\n",
      "recipient: 30819f300d06092a864886f70d010101050003818d0030818902818100c6baf2c12359d28670477fc3990a17e54b105cac99e3509d225f217cd7be86af5bbae1e7fd75666080f8bce2e50b0539c2de9a12c7f87b038ac07488d5b05c87afbe752587fc9e1047174d7e3680905dbd865f146517dc9be09bb2551ab736e316958ace71b71185248e7b8abdc72c3c73f46a01cf28f50a5d711afe66d5b93d0203010001\n",
      "-----\n",
      "value: 2.0\n",
      "-----\n",
      "time: 2022-03-28 22:15:16.471477\n",
      "-----\n",
      "--------------\n",
      "=====================================\n",
      "block # 2\n",
      "sender: 30819f300d06092a864886f70d010101050003818d0030818902818100c6baf2c12359d28670477fc3990a17e54b105cac99e3509d225f217cd7be86af5bbae1e7fd75666080f8bce2e50b0539c2de9a12c7f87b038ac07488d5b05c87afbe752587fc9e1047174d7e3680905dbd865f146517dc9be09bb2551ab736e316958ace71b71185248e7b8abdc72c3c73f46a01cf28f50a5d711afe66d5b93d0203010001\n",
      "-----\n",
      "recipient: 30819f300d06092a864886f70d010101050003818d0030818902818100c783c372529dcefa4605d35aaf3c6ecd1f06d46a2e331397fe34d1cc12c73ca3be06808435d383103b25fd67839c055c1ac426fc3260448ac3fc414c5559e659f403654ac9d77eb22b5e72597ff9ca3135db9bc6e92d5c05bdb522056ef0722e5a35c8888b33581dd5d0f7ae6ea2e2185383c97e3d86a122b2870c08f5ad450b0203010001\n",
      "-----\n",
      "value: 12.0\n",
      "-----\n",
      "time: 2022-03-28 22:15:16.476304\n",
      "-----\n",
      "--------------\n",
      "sender: 30819f300d06092a864886f70d010101050003818d0030818902818100b9ec55650f19c77f14a26c37fb8019322be77cac4c9db6b7f3cc27affe66bf33b606fc5f0bad928731f64d4d6200f66365d04e39e0af5499e37e5997f57025fe43dac54f14aaaccdb2cf1a02dfce060cce4a2ba32826a86c9188141fc8105be8be6271e9c4062b65632f498bc0fb11759da71105ccc16a94c9bfc9986deea4630203010001\n",
      "-----\n",
      "recipient: 30819f300d06092a864886f70d010101050003818d0030818902818100c6baf2c12359d28670477fc3990a17e54b105cac99e3509d225f217cd7be86af5bbae1e7fd75666080f8bce2e50b0539c2de9a12c7f87b038ac07488d5b05c87afbe752587fc9e1047174d7e3680905dbd865f146517dc9be09bb2551ab736e316958ace71b71185248e7b8abdc72c3c73f46a01cf28f50a5d711afe66d5b93d0203010001\n",
      "-----\n",
      "value: 2.0\n",
      "-----\n",
      "time: 2022-03-28 22:15:16.478691\n",
      "-----\n",
      "--------------\n",
      "sender: 30819f300d06092a864886f70d010101050003818d0030818902818100b9ec55650f19c77f14a26c37fb8019322be77cac4c9db6b7f3cc27affe66bf33b606fc5f0bad928731f64d4d6200f66365d04e39e0af5499e37e5997f57025fe43dac54f14aaaccdb2cf1a02dfce060cce4a2ba32826a86c9188141fc8105be8be6271e9c4062b65632f498bc0fb11759da71105ccc16a94c9bfc9986deea4630203010001\n",
      "-----\n",
      "recipient: 30819f300d06092a864886f70d010101050003818d003081890281810098b604bf7ba093b68fd35872de6edc52efe75cdfbb2005068d7d8ef65af73d7eafbf2ce91062e96818b8ed2706dd60bd095195b058b0652b779a34d58625d82114734b2a391c54eea52f603934b972e85dea212b5a80ce123703c57ab6dcfef5f7a65ddc9bfec4034d459fdf31fc93ab697af078799df90e267b363b8a6cac1b0203010001\n",
      "-----\n",
      "value: 22.0\n",
      "-----\n",
      "time: 2022-03-28 22:15:16.481056\n",
      "-----\n",
      "--------------\n",
      "=====================================\n",
      "block # 3\n",
      "sender: 30819f300d06092a864886f70d010101050003818d0030818902818100c783c372529dcefa4605d35aaf3c6ecd1f06d46a2e331397fe34d1cc12c73ca3be06808435d383103b25fd67839c055c1ac426fc3260448ac3fc414c5559e659f403654ac9d77eb22b5e72597ff9ca3135db9bc6e92d5c05bdb522056ef0722e5a35c8888b33581dd5d0f7ae6ea2e2185383c97e3d86a122b2870c08f5ad450b0203010001\n",
      "-----\n",
      "recipient: 30819f300d06092a864886f70d010101050003818d0030818902818100c6baf2c12359d28670477fc3990a17e54b105cac99e3509d225f217cd7be86af5bbae1e7fd75666080f8bce2e50b0539c2de9a12c7f87b038ac07488d5b05c87afbe752587fc9e1047174d7e3680905dbd865f146517dc9be09bb2551ab736e316958ace71b71185248e7b8abdc72c3c73f46a01cf28f50a5d711afe66d5b93d0203010001\n",
      "-----\n",
      "value: 125.0\n",
      "-----\n",
      "time: 2022-03-28 22:15:16.483948\n",
      "-----\n",
      "--------------\n",
      "sender: 30819f300d06092a864886f70d010101050003818d0030818902818100c6baf2c12359d28670477fc3990a17e54b105cac99e3509d225f217cd7be86af5bbae1e7fd75666080f8bce2e50b0539c2de9a12c7f87b038ac07488d5b05c87afbe752587fc9e1047174d7e3680905dbd865f146517dc9be09bb2551ab736e316958ace71b71185248e7b8abdc72c3c73f46a01cf28f50a5d711afe66d5b93d0203010001\n",
      "-----\n",
      "recipient: 30819f300d06092a864886f70d010101050003818d0030818902818100b9ec55650f19c77f14a26c37fb8019322be77cac4c9db6b7f3cc27affe66bf33b606fc5f0bad928731f64d4d6200f66365d04e39e0af5499e37e5997f57025fe43dac54f14aaaccdb2cf1a02dfce060cce4a2ba32826a86c9188141fc8105be8be6271e9c4062b65632f498bc0fb11759da71105ccc16a94c9bfc9986deea4630203010001\n",
      "-----\n",
      "value: 42.0\n",
      "-----\n",
      "time: 2022-03-28 22:15:16.488396\n",
      "-----\n",
      "--------------\n",
      "sender: 30819f300d06092a864886f70d010101050003818d0030818902818100b9ec55650f19c77f14a26c37fb8019322be77cac4c9db6b7f3cc27affe66bf33b606fc5f0bad928731f64d4d6200f66365d04e39e0af5499e37e5997f57025fe43dac54f14aaaccdb2cf1a02dfce060cce4a2ba32826a86c9188141fc8105be8be6271e9c4062b65632f498bc0fb11759da71105ccc16a94c9bfc9986deea4630203010001\n",
      "-----\n",
      "recipient: 30819f300d06092a864886f70d010101050003818d003081890281810098b604bf7ba093b68fd35872de6edc52efe75cdfbb2005068d7d8ef65af73d7eafbf2ce91062e96818b8ed2706dd60bd095195b058b0652b779a34d58625d82114734b2a391c54eea52f603934b972e85dea212b5a80ce123703c57ab6dcfef5f7a65ddc9bfec4034d459fdf31fc93ab697af078799df90e267b363b8a6cac1b0203010001\n",
      "-----\n",
      "value: 2.0\n",
      "-----\n",
      "time: 2022-03-28 22:15:16.490813\n",
      "-----\n",
      "--------------\n",
      "=====================================\n"
     ]
    }
   ],
   "source": [
    "dump_blockchain(TPCoins)"
   ]
  },
  {
   "cell_type": "markdown",
   "id": "acfee08f",
   "metadata": {},
   "source": [
    "https://www.tutorialspoint.com/python_blockchain/python_blockchain_scope_and_conclusion.htm"
   ]
  },
  {
   "cell_type": "code",
   "execution_count": null,
   "id": "b0876e70",
   "metadata": {},
   "outputs": [],
   "source": []
  }
 ],
 "metadata": {
  "kernelspec": {
   "display_name": "Python 3 (ipykernel)",
   "language": "python",
   "name": "python3"
  },
  "language_info": {
   "codemirror_mode": {
    "name": "ipython",
    "version": 3
   },
   "file_extension": ".py",
   "mimetype": "text/x-python",
   "name": "python",
   "nbconvert_exporter": "python",
   "pygments_lexer": "ipython3",
   "version": "3.9.10"
  }
 },
 "nbformat": 4,
 "nbformat_minor": 5
}
